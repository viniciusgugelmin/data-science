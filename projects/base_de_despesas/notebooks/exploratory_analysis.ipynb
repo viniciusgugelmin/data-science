{
  "cells": [
    {
      "cell_type": "markdown",
      "source": [
        "# Configuração de ambiente"
      ],
      "metadata": {
        "id": "_MJJ7VrCMVVA"
      }
    },
    {
      "cell_type": "markdown",
      "source": [
        "Importação das bibliotecas:\n",
        "\n",
        "- Numpy: para computação numérica\n",
        "- Pandas: para manipulação de dados através do alias \"pd\"\n",
        "- Google Colab: para manipulação de arquivos no Google Drive\n",
        "- Matplotlib: para criação de gráficos e visualizações de dados\n",
        "- Seaborn: para visualização de dados\n",
        "- Warnings: para poder alterar a visualização de warnings do sistema\n",
        "\n",
        "E execução do comando \"%matplotlib inline\" para que os gráficos sejam exibidos no notebook logo abaixo da célula de código que os gerou."
      ],
      "metadata": {
        "id": "-Pim0MYfMZbz"
      }
    },
    {
      "cell_type": "code",
      "execution_count": 1,
      "metadata": {
        "id": "bN9BUZlBLpG8"
      },
      "outputs": [],
      "source": [
        "import numpy as np\n",
        "import pandas as pd\n",
        "from google.colab import drive\n",
        "from matplotlib import pyplot as plt\n",
        "import seaborn as sns\n",
        "import warnings\n",
        "\n",
        "warnings.filterwarnings(\"ignore\", category=FutureWarning)\n",
        "\n",
        "sns.set()\n",
        "\n",
        "%matplotlib inline"
      ]
    },
    {
      "cell_type": "markdown",
      "source": [
        "Carregamento do Drive para que o notebook possa acessar os arquivos do Google Drive e com o parâmetro \"force_remount=True\" para que o Drive seja montado a cada execução do notebook."
      ],
      "metadata": {
        "id": "7YY-nRoiModY"
      }
    },
    {
      "cell_type": "code",
      "source": [
        "drive.mount('/content/drive', force_remount=True)"
      ],
      "metadata": {
        "id": "mZlLQFPzMp9k",
        "outputId": "f168c08a-8eb5-4a13-8c73-15c039f57ebf",
        "colab": {
          "base_uri": "https://localhost:8080/"
        }
      },
      "execution_count": 2,
      "outputs": [
        {
          "output_type": "stream",
          "name": "stdout",
          "text": [
            "Mounted at /content/drive\n"
          ]
        }
      ]
    },
    {
      "cell_type": "markdown",
      "source": [
        "# Leitura e visualização do dataset\n",
        "\n",
        "Leitura do arquivo \"dataset_clean.csv\" através da função \"read_csv\" do Pandas e armazenamento do resultado na variável \"df\". Uso do parâmetro \"sep\" para informar qual o separador de colunas do arquivo e do parâmetro \"encoding\" para informar qual o tipo de codificação do arquivo."
      ],
      "metadata": {
        "id": "2MABwWQfMpfJ"
      }
    },
    {
      "cell_type": "code",
      "source": [
        "csv_url = \"https://github.com/viniciusgugelmin/data-science/blob/main/projects/base_de_despesas/data/dataset_clean.csv?raw=true\"\n",
        "\n",
        "df = pd.read_csv(csv_url, sep=';', encoding='iso-8859-1', low_memory=False)"
      ],
      "metadata": {
        "id": "Qf9_pcuSM12Z"
      },
      "execution_count": 3,
      "outputs": []
    },
    {
      "cell_type": "markdown",
      "source": [
        "Exibição das 5 primeiras linhas do DataFrame através da função \"head\" do Pandas para verificar se o arquivo foi carregado corretamente e ter uma ideia do que ele contém."
      ],
      "metadata": {
        "id": "w1ciib9NQUFW"
      }
    },
    {
      "cell_type": "code",
      "source": [
        "df.head()"
      ],
      "metadata": {
        "id": "me-XrUBXQU7l",
        "outputId": "e2a737e4-d806-4401-af5a-ed1ba31219bb",
        "colab": {
          "base_uri": "https://localhost:8080/",
          "height": 786
        }
      },
      "execution_count": 8,
      "outputs": [
        {
          "output_type": "execute_result",
          "data": {
            "text/plain": [
              "         DATA                                              FONTE  \\\n",
              "0  2022-06-09  Recursos Próprios do Fundo Municipal de Apoio ...   \n",
              "1  2022-06-09  Recursos Próprios do Fundo Municipal de Apoio ...   \n",
              "2  2022-06-23  Recursos Próprios do Fundo Municipal de Habita...   \n",
              "3  2022-06-23  Recursos Próprios do Fundo Municipal de Habita...   \n",
              "4  2022-06-23  Recursos Próprios do Fundo Municipal de Habita...   \n",
              "\n",
              "               FUNCAO                              PROGRAMA  \\\n",
              "0  ASSISTÊNCIA SOCIAL  PROGRAMA VIVA CURITIBA QUE NÃO DORME   \n",
              "1  ASSISTÊNCIA SOCIAL  PROGRAMA VIVA CURITIBA QUE NÃO DORME   \n",
              "2           HABITAÇÃO         PROGRAMA VIVA CURITIBA CIDADÃ   \n",
              "3           HABITAÇÃO         PROGRAMA VIVA CURITIBA CIDADÃ   \n",
              "4           HABITAÇÃO         PROGRAMA VIVA CURITIBA CIDADÃ   \n",
              "\n",
              "                                                ACAO  \\\n",
              "0  DESENVOLVIMENTO E EXECUÇÃO DE AÇÕES DE ATENDIM...   \n",
              "1  DESENVOLVIMENTO E EXECUÇÃO DE AÇÕES DE ATENDIM...   \n",
              "2  MANUTENÇÃO E EXECUÇÃO DOS SERVIÇOS TÉCNICOS, A...   \n",
              "3  MANUTENÇÃO E EXECUÇÃO DOS SERVIÇOS TÉCNICOS, A...   \n",
              "4  MANUTENÇÃO E EXECUÇÃO DOS SERVIÇOS TÉCNICOS, A...   \n",
              "\n",
              "                                         SUBELEMENTO  \\\n",
              "0  LOCAÇÃO DE BENS MÓVEIS E OUTRAS NATUREZAS E IN...   \n",
              "1  LOCAÇÃO DE BENS MÓVEIS E OUTRAS NATUREZAS E IN...   \n",
              "2                    SERVIÇOS TÉCNICOS PROFISSIONAIS   \n",
              "3                    SERVIÇOS TÉCNICOS PROFISSIONAIS   \n",
              "4                    SERVIÇOS TÉCNICOS PROFISSIONAIS   \n",
              "\n",
              "                                              ORGAO  \\\n",
              "0            FUNDO MUNICIPAL DE APOIO AO DEFICIENTE   \n",
              "1            FUNDO MUNICIPAL DE APOIO AO DEFICIENTE   \n",
              "2  FUNDO MUNICIPAL DE HABITAÇÃO DE INTERESSE SOCIAL   \n",
              "3  FUNDO MUNICIPAL DE HABITAÇÃO DE INTERESSE SOCIAL   \n",
              "4  FUNDO MUNICIPAL DE HABITAÇÃO DE INTERESSE SOCIAL   \n",
              "\n",
              "                                             TIPO  \\\n",
              "0  OUTROS SERVIÇOS DE TERCEIROS - PESSOA JURÍDICA   \n",
              "1  OUTROS SERVIÇOS DE TERCEIROS - PESSOA JURÍDICA   \n",
              "2  OUTROS SERVIÇOS DE TERCEIROS - PESSOA JURÍDICA   \n",
              "3  OUTROS SERVIÇOS DE TERCEIROS - PESSOA JURÍDICA   \n",
              "4  OUTROS SERVIÇOS DE TERCEIROS - PESSOA JURÍDICA   \n",
              "\n",
              "                                         ELEMENTO       DOCUMENTO  ...  \\\n",
              "0  Outros Serviços de Terceiros - Pessoa Jurídica  33038864000151  ...   \n",
              "1  Outros Serviços de Terceiros - Pessoa Jurídica  33038864000151  ...   \n",
              "2  Outros Serviços de Terceiros - Pessoa Jurídica   3864060000140  ...   \n",
              "3  Outros Serviços de Terceiros - Pessoa Jurídica   3864060000140  ...   \n",
              "4  Outros Serviços de Terceiros - Pessoa Jurídica   3864060000140  ...   \n",
              "\n",
              "   VALOR_PRECO_UNITARIO VALOR_TOTAL           DATA_TRANSACAO  \\\n",
              "0                   0.0         0.0                 SEM DATA   \n",
              "1                   0.0         0.0                 SEM DATA   \n",
              "2                   0.0         0.0  2022-07-22 00:00:00.000   \n",
              "3                   0.0         0.0  2022-07-14 00:00:00.000   \n",
              "4                   0.0         0.0  2022-07-13 00:00:00.000   \n",
              "\n",
              "        STATUS_TRANSACAO  VALOR_LIQUIDADO  VALOR_DEVOLVIDO VALOR_ANULADO  \\\n",
              "0             SEM STATUS              0.0              0.0           0.0   \n",
              "1             SEM STATUS              0.0              0.0           0.0   \n",
              "2     Anulado de Empenho              0.0              0.0           0.0   \n",
              "3   Pagamento de Empenho              0.0              0.0           0.0   \n",
              "4  Liquidação de Empenho              0.0              0.0           0.0   \n",
              "\n",
              "  VALOR_PAGO  VALOR_CONSIGNADO  DOCUMENTO_TIPO  \n",
              "0        0.0               0.0    DESCONHECIDO  \n",
              "1        0.0               0.0    DESCONHECIDO  \n",
              "2        0.0               0.0    DESCONHECIDO  \n",
              "3        0.0               0.0    DESCONHECIDO  \n",
              "4        0.0               0.0    DESCONHECIDO  \n",
              "\n",
              "[5 rows x 24 columns]"
            ],
            "text/html": [
              "\n",
              "  <div id=\"df-afdcb631-8ac7-4447-a7e3-796d44f5a60e\">\n",
              "    <div class=\"colab-df-container\">\n",
              "      <div>\n",
              "<style scoped>\n",
              "    .dataframe tbody tr th:only-of-type {\n",
              "        vertical-align: middle;\n",
              "    }\n",
              "\n",
              "    .dataframe tbody tr th {\n",
              "        vertical-align: top;\n",
              "    }\n",
              "\n",
              "    .dataframe thead th {\n",
              "        text-align: right;\n",
              "    }\n",
              "</style>\n",
              "<table border=\"1\" class=\"dataframe\">\n",
              "  <thead>\n",
              "    <tr style=\"text-align: right;\">\n",
              "      <th></th>\n",
              "      <th>DATA</th>\n",
              "      <th>FONTE</th>\n",
              "      <th>FUNCAO</th>\n",
              "      <th>PROGRAMA</th>\n",
              "      <th>ACAO</th>\n",
              "      <th>SUBELEMENTO</th>\n",
              "      <th>ORGAO</th>\n",
              "      <th>TIPO</th>\n",
              "      <th>ELEMENTO</th>\n",
              "      <th>DOCUMENTO</th>\n",
              "      <th>...</th>\n",
              "      <th>VALOR_PRECO_UNITARIO</th>\n",
              "      <th>VALOR_TOTAL</th>\n",
              "      <th>DATA_TRANSACAO</th>\n",
              "      <th>STATUS_TRANSACAO</th>\n",
              "      <th>VALOR_LIQUIDADO</th>\n",
              "      <th>VALOR_DEVOLVIDO</th>\n",
              "      <th>VALOR_ANULADO</th>\n",
              "      <th>VALOR_PAGO</th>\n",
              "      <th>VALOR_CONSIGNADO</th>\n",
              "      <th>DOCUMENTO_TIPO</th>\n",
              "    </tr>\n",
              "  </thead>\n",
              "  <tbody>\n",
              "    <tr>\n",
              "      <th>0</th>\n",
              "      <td>2022-06-09</td>\n",
              "      <td>Recursos Próprios do Fundo Municipal de Apoio ...</td>\n",
              "      <td>ASSISTÊNCIA SOCIAL</td>\n",
              "      <td>PROGRAMA VIVA CURITIBA QUE NÃO DORME</td>\n",
              "      <td>DESENVOLVIMENTO E EXECUÇÃO DE AÇÕES DE ATENDIM...</td>\n",
              "      <td>LOCAÇÃO DE BENS MÓVEIS E OUTRAS NATUREZAS E IN...</td>\n",
              "      <td>FUNDO MUNICIPAL DE APOIO AO DEFICIENTE</td>\n",
              "      <td>OUTROS SERVIÇOS DE TERCEIROS - PESSOA JURÍDICA</td>\n",
              "      <td>Outros Serviços de Terceiros - Pessoa Jurídica</td>\n",
              "      <td>33038864000151</td>\n",
              "      <td>...</td>\n",
              "      <td>0.0</td>\n",
              "      <td>0.0</td>\n",
              "      <td>SEM DATA</td>\n",
              "      <td>SEM STATUS</td>\n",
              "      <td>0.0</td>\n",
              "      <td>0.0</td>\n",
              "      <td>0.0</td>\n",
              "      <td>0.0</td>\n",
              "      <td>0.0</td>\n",
              "      <td>DESCONHECIDO</td>\n",
              "    </tr>\n",
              "    <tr>\n",
              "      <th>1</th>\n",
              "      <td>2022-06-09</td>\n",
              "      <td>Recursos Próprios do Fundo Municipal de Apoio ...</td>\n",
              "      <td>ASSISTÊNCIA SOCIAL</td>\n",
              "      <td>PROGRAMA VIVA CURITIBA QUE NÃO DORME</td>\n",
              "      <td>DESENVOLVIMENTO E EXECUÇÃO DE AÇÕES DE ATENDIM...</td>\n",
              "      <td>LOCAÇÃO DE BENS MÓVEIS E OUTRAS NATUREZAS E IN...</td>\n",
              "      <td>FUNDO MUNICIPAL DE APOIO AO DEFICIENTE</td>\n",
              "      <td>OUTROS SERVIÇOS DE TERCEIROS - PESSOA JURÍDICA</td>\n",
              "      <td>Outros Serviços de Terceiros - Pessoa Jurídica</td>\n",
              "      <td>33038864000151</td>\n",
              "      <td>...</td>\n",
              "      <td>0.0</td>\n",
              "      <td>0.0</td>\n",
              "      <td>SEM DATA</td>\n",
              "      <td>SEM STATUS</td>\n",
              "      <td>0.0</td>\n",
              "      <td>0.0</td>\n",
              "      <td>0.0</td>\n",
              "      <td>0.0</td>\n",
              "      <td>0.0</td>\n",
              "      <td>DESCONHECIDO</td>\n",
              "    </tr>\n",
              "    <tr>\n",
              "      <th>2</th>\n",
              "      <td>2022-06-23</td>\n",
              "      <td>Recursos Próprios do Fundo Municipal de Habita...</td>\n",
              "      <td>HABITAÇÃO</td>\n",
              "      <td>PROGRAMA VIVA CURITIBA CIDADÃ</td>\n",
              "      <td>MANUTENÇÃO E EXECUÇÃO DOS SERVIÇOS TÉCNICOS, A...</td>\n",
              "      <td>SERVIÇOS TÉCNICOS PROFISSIONAIS</td>\n",
              "      <td>FUNDO MUNICIPAL DE HABITAÇÃO DE INTERESSE SOCIAL</td>\n",
              "      <td>OUTROS SERVIÇOS DE TERCEIROS - PESSOA JURÍDICA</td>\n",
              "      <td>Outros Serviços de Terceiros - Pessoa Jurídica</td>\n",
              "      <td>3864060000140</td>\n",
              "      <td>...</td>\n",
              "      <td>0.0</td>\n",
              "      <td>0.0</td>\n",
              "      <td>2022-07-22 00:00:00.000</td>\n",
              "      <td>Anulado de Empenho</td>\n",
              "      <td>0.0</td>\n",
              "      <td>0.0</td>\n",
              "      <td>0.0</td>\n",
              "      <td>0.0</td>\n",
              "      <td>0.0</td>\n",
              "      <td>DESCONHECIDO</td>\n",
              "    </tr>\n",
              "    <tr>\n",
              "      <th>3</th>\n",
              "      <td>2022-06-23</td>\n",
              "      <td>Recursos Próprios do Fundo Municipal de Habita...</td>\n",
              "      <td>HABITAÇÃO</td>\n",
              "      <td>PROGRAMA VIVA CURITIBA CIDADÃ</td>\n",
              "      <td>MANUTENÇÃO E EXECUÇÃO DOS SERVIÇOS TÉCNICOS, A...</td>\n",
              "      <td>SERVIÇOS TÉCNICOS PROFISSIONAIS</td>\n",
              "      <td>FUNDO MUNICIPAL DE HABITAÇÃO DE INTERESSE SOCIAL</td>\n",
              "      <td>OUTROS SERVIÇOS DE TERCEIROS - PESSOA JURÍDICA</td>\n",
              "      <td>Outros Serviços de Terceiros - Pessoa Jurídica</td>\n",
              "      <td>3864060000140</td>\n",
              "      <td>...</td>\n",
              "      <td>0.0</td>\n",
              "      <td>0.0</td>\n",
              "      <td>2022-07-14 00:00:00.000</td>\n",
              "      <td>Pagamento de Empenho</td>\n",
              "      <td>0.0</td>\n",
              "      <td>0.0</td>\n",
              "      <td>0.0</td>\n",
              "      <td>0.0</td>\n",
              "      <td>0.0</td>\n",
              "      <td>DESCONHECIDO</td>\n",
              "    </tr>\n",
              "    <tr>\n",
              "      <th>4</th>\n",
              "      <td>2022-06-23</td>\n",
              "      <td>Recursos Próprios do Fundo Municipal de Habita...</td>\n",
              "      <td>HABITAÇÃO</td>\n",
              "      <td>PROGRAMA VIVA CURITIBA CIDADÃ</td>\n",
              "      <td>MANUTENÇÃO E EXECUÇÃO DOS SERVIÇOS TÉCNICOS, A...</td>\n",
              "      <td>SERVIÇOS TÉCNICOS PROFISSIONAIS</td>\n",
              "      <td>FUNDO MUNICIPAL DE HABITAÇÃO DE INTERESSE SOCIAL</td>\n",
              "      <td>OUTROS SERVIÇOS DE TERCEIROS - PESSOA JURÍDICA</td>\n",
              "      <td>Outros Serviços de Terceiros - Pessoa Jurídica</td>\n",
              "      <td>3864060000140</td>\n",
              "      <td>...</td>\n",
              "      <td>0.0</td>\n",
              "      <td>0.0</td>\n",
              "      <td>2022-07-13 00:00:00.000</td>\n",
              "      <td>Liquidação de Empenho</td>\n",
              "      <td>0.0</td>\n",
              "      <td>0.0</td>\n",
              "      <td>0.0</td>\n",
              "      <td>0.0</td>\n",
              "      <td>0.0</td>\n",
              "      <td>DESCONHECIDO</td>\n",
              "    </tr>\n",
              "  </tbody>\n",
              "</table>\n",
              "<p>5 rows × 24 columns</p>\n",
              "</div>\n",
              "      <button class=\"colab-df-convert\" onclick=\"convertToInteractive('df-afdcb631-8ac7-4447-a7e3-796d44f5a60e')\"\n",
              "              title=\"Convert this dataframe to an interactive table.\"\n",
              "              style=\"display:none;\">\n",
              "        \n",
              "  <svg xmlns=\"http://www.w3.org/2000/svg\" height=\"24px\"viewBox=\"0 0 24 24\"\n",
              "       width=\"24px\">\n",
              "    <path d=\"M0 0h24v24H0V0z\" fill=\"none\"/>\n",
              "    <path d=\"M18.56 5.44l.94 2.06.94-2.06 2.06-.94-2.06-.94-.94-2.06-.94 2.06-2.06.94zm-11 1L8.5 8.5l.94-2.06 2.06-.94-2.06-.94L8.5 2.5l-.94 2.06-2.06.94zm10 10l.94 2.06.94-2.06 2.06-.94-2.06-.94-.94-2.06-.94 2.06-2.06.94z\"/><path d=\"M17.41 7.96l-1.37-1.37c-.4-.4-.92-.59-1.43-.59-.52 0-1.04.2-1.43.59L10.3 9.45l-7.72 7.72c-.78.78-.78 2.05 0 2.83L4 21.41c.39.39.9.59 1.41.59.51 0 1.02-.2 1.41-.59l7.78-7.78 2.81-2.81c.8-.78.8-2.07 0-2.86zM5.41 20L4 18.59l7.72-7.72 1.47 1.35L5.41 20z\"/>\n",
              "  </svg>\n",
              "      </button>\n",
              "      \n",
              "  <style>\n",
              "    .colab-df-container {\n",
              "      display:flex;\n",
              "      flex-wrap:wrap;\n",
              "      gap: 12px;\n",
              "    }\n",
              "\n",
              "    .colab-df-convert {\n",
              "      background-color: #E8F0FE;\n",
              "      border: none;\n",
              "      border-radius: 50%;\n",
              "      cursor: pointer;\n",
              "      display: none;\n",
              "      fill: #1967D2;\n",
              "      height: 32px;\n",
              "      padding: 0 0 0 0;\n",
              "      width: 32px;\n",
              "    }\n",
              "\n",
              "    .colab-df-convert:hover {\n",
              "      background-color: #E2EBFA;\n",
              "      box-shadow: 0px 1px 2px rgba(60, 64, 67, 0.3), 0px 1px 3px 1px rgba(60, 64, 67, 0.15);\n",
              "      fill: #174EA6;\n",
              "    }\n",
              "\n",
              "    [theme=dark] .colab-df-convert {\n",
              "      background-color: #3B4455;\n",
              "      fill: #D2E3FC;\n",
              "    }\n",
              "\n",
              "    [theme=dark] .colab-df-convert:hover {\n",
              "      background-color: #434B5C;\n",
              "      box-shadow: 0px 1px 3px 1px rgba(0, 0, 0, 0.15);\n",
              "      filter: drop-shadow(0px 1px 2px rgba(0, 0, 0, 0.3));\n",
              "      fill: #FFFFFF;\n",
              "    }\n",
              "  </style>\n",
              "\n",
              "      <script>\n",
              "        const buttonEl =\n",
              "          document.querySelector('#df-afdcb631-8ac7-4447-a7e3-796d44f5a60e button.colab-df-convert');\n",
              "        buttonEl.style.display =\n",
              "          google.colab.kernel.accessAllowed ? 'block' : 'none';\n",
              "\n",
              "        async function convertToInteractive(key) {\n",
              "          const element = document.querySelector('#df-afdcb631-8ac7-4447-a7e3-796d44f5a60e');\n",
              "          const dataTable =\n",
              "            await google.colab.kernel.invokeFunction('convertToInteractive',\n",
              "                                                     [key], {});\n",
              "          if (!dataTable) return;\n",
              "\n",
              "          const docLinkHtml = 'Like what you see? Visit the ' +\n",
              "            '<a target=\"_blank\" href=https://colab.research.google.com/notebooks/data_table.ipynb>data table notebook</a>'\n",
              "            + ' to learn more about interactive tables.';\n",
              "          element.innerHTML = '';\n",
              "          dataTable['output_type'] = 'display_data';\n",
              "          await google.colab.output.renderOutput(dataTable, element);\n",
              "          const docLink = document.createElement('div');\n",
              "          docLink.innerHTML = docLinkHtml;\n",
              "          element.appendChild(docLink);\n",
              "        }\n",
              "      </script>\n",
              "    </div>\n",
              "  </div>\n",
              "  "
            ]
          },
          "metadata": {},
          "execution_count": 8
        }
      ]
    },
    {
      "cell_type": "markdown",
      "source": [
        "# Criação de funções utilitárias"
      ],
      "metadata": {
        "id": "emPpj6N6Q2aF"
      }
    },
    {
      "cell_type": "code",
      "source": [
        "def contLinhasDfFormatado(_df):\n",
        "  aux = f'{len(_df):_.0f}'\n",
        "  aux = aux.replace('.', ',')\n",
        "  return aux.replace('_', '.')"
      ],
      "metadata": {
        "id": "S965QgSVQ5M5"
      },
      "execution_count": 5,
      "outputs": []
    },
    {
      "cell_type": "markdown",
      "source": [
        "# Perguntas iniciais"
      ],
      "metadata": {
        "id": "1x1x9U0OQplA"
      }
    },
    {
      "cell_type": "markdown",
      "source": [
        "- Qual o total de despesas temos no dataset?"
      ],
      "metadata": {
        "id": "1j2irRqGQql5"
      }
    },
    {
      "cell_type": "code",
      "source": [
        "cont_df = contLinhasDfFormatado(df)\n",
        "\n",
        "print(\"Total:\", cont_df)"
      ],
      "metadata": {
        "id": "FHCrOP7oQ0Vo",
        "outputId": "d27703d8-9bb1-4278-ed25-8e8bec848f34",
        "colab": {
          "base_uri": "https://localhost:8080/"
        }
      },
      "execution_count": 6,
      "outputs": [
        {
          "output_type": "stream",
          "name": "stdout",
          "text": [
            "Total: 36.086\n"
          ]
        }
      ]
    },
    {
      "cell_type": "markdown",
      "source": [
        "- Qual o período de data dessas despesas?"
      ],
      "metadata": {
        "id": "zn-r7RvSRJCS"
      }
    }
  ],
  "metadata": {
    "kernelspec": {
      "display_name": "Python 3.9.6 64-bit",
      "language": "python",
      "name": "python3"
    },
    "language_info": {
      "name": "python",
      "version": "3.9.6"
    },
    "orig_nbformat": 4,
    "vscode": {
      "interpreter": {
        "hash": "81794d4967e6c3204c66dcd87b604927b115b27c00565d3d43f05ba2f3a2cb0d"
      }
    },
    "colab": {
      "provenance": []
    }
  },
  "nbformat": 4,
  "nbformat_minor": 0
}