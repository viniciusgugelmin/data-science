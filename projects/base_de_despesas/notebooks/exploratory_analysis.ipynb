{
  "cells": [
    {
      "cell_type": "markdown",
      "source": [
        "# Configuração de ambiente"
      ],
      "metadata": {
        "id": "_MJJ7VrCMVVA"
      }
    },
    {
      "cell_type": "markdown",
      "source": [
        "Importação das bibliotecas:\n",
        "\n",
        "- Numpy: para computação numérica\n",
        "- Pandas: para manipulação de dados através do alias \"pd\"\n",
        "- Google Colab: para manipulação de arquivos no Google Drive\n",
        "- Matplotlib: para criação de gráficos e visualizações de dados\n",
        "- Seaborn: para visualização de dados\n",
        "- Warnings: para poder alterar a visualização de warnings do sistema\n",
        "\n",
        "E execução do comando \"%matplotlib inline\" para que os gráficos sejam exibidos no notebook logo abaixo da célula de código que os gerou."
      ],
      "metadata": {
        "id": "-Pim0MYfMZbz"
      }
    },
    {
      "cell_type": "code",
      "execution_count": 86,
      "metadata": {
        "id": "bN9BUZlBLpG8"
      },
      "outputs": [],
      "source": [
        "import numpy as np\n",
        "import pandas as pd\n",
        "from google.colab import drive\n",
        "from matplotlib import pyplot as plt\n",
        "import seaborn as sns\n",
        "import warnings\n",
        "from datetime import datetime\n",
        "\n",
        "warnings.filterwarnings(\"ignore\", category=FutureWarning)\n",
        "\n",
        "sns.set()\n",
        "\n",
        "%matplotlib inline"
      ]
    },
    {
      "cell_type": "markdown",
      "source": [
        "Carregamento do Drive para que o notebook possa acessar os arquivos do Google Drive e com o parâmetro \"force_remount=True\" para que o Drive seja montado a cada execução do notebook."
      ],
      "metadata": {
        "id": "7YY-nRoiModY"
      }
    },
    {
      "cell_type": "code",
      "source": [
        "drive.mount('/content/drive', force_remount=True)"
      ],
      "metadata": {
        "colab": {
          "base_uri": "https://localhost:8080/"
        },
        "id": "mZlLQFPzMp9k",
        "outputId": "205bdf62-ad4a-4d55-c2c1-55250bcbab82"
      },
      "execution_count": 87,
      "outputs": [
        {
          "output_type": "stream",
          "name": "stdout",
          "text": [
            "Mounted at /content/drive\n"
          ]
        }
      ]
    },
    {
      "cell_type": "markdown",
      "source": [
        "# Leitura e visualização do dataset\n",
        "\n",
        "Leitura do arquivo \"dataset_clean.csv\" através da função \"read_csv\" do Pandas e armazenamento do resultado na variável \"df\". Uso do parâmetro \"sep\" para informar qual o separador de colunas do arquivo e do parâmetro \"encoding\" para informar qual o tipo de codificação do arquivo."
      ],
      "metadata": {
        "id": "2MABwWQfMpfJ"
      }
    },
    {
      "cell_type": "code",
      "source": [
        "csv_url = \"https://github.com/viniciusgugelmin/data-science/blob/main/projects/base_de_despesas/data/dataset_clean.csv?raw=true\"\n",
        "\n",
        "df = pd.read_csv(csv_url, sep=';', low_memory=False)\n",
        "df = df.sort_values('DATA', ascending=True).reset_index().drop('index', axis=1)"
      ],
      "metadata": {
        "id": "Qf9_pcuSM12Z"
      },
      "execution_count": 139,
      "outputs": []
    },
    {
      "cell_type": "markdown",
      "source": [
        "Atribuição do limite na exibição do dataset para 50 colunas e 20 linhas, afim de conseguir visualizar melhor os dados."
      ],
      "metadata": {
        "id": "DU0mYushV7qh"
      }
    },
    {
      "cell_type": "code",
      "source": [
        "pd.set_option('display.max_columns', 50)\n",
        "pd.set_option('display.max_rows', 20)"
      ],
      "metadata": {
        "id": "l9gCISibV6ac"
      },
      "execution_count": 135,
      "outputs": []
    },
    {
      "cell_type": "markdown",
      "source": [
        "Exibição das 5 primeiras linhas do DataFrame através da função \"head\" do Pandas para verificar se o arquivo foi carregado corretamente e ter uma ideia do que ele contém."
      ],
      "metadata": {
        "id": "w1ciib9NQUFW"
      }
    },
    {
      "cell_type": "code",
      "source": [
        "df.head()"
      ],
      "metadata": {
        "colab": {
          "base_uri": "https://localhost:8080/",
          "height": 704
        },
        "id": "me-XrUBXQU7l",
        "outputId": "76471403-0b93-47e5-eb0f-5b6914a41825"
      },
      "execution_count": 140,
      "outputs": [
        {
          "output_type": "execute_result",
          "data": {
            "text/plain": [
              "         DATA                         FONTE               FUNCAO  \\\n",
              "0  2022-06-01  Recursos Ordinários (Livres)  ESSENCIAL À JUSTIÇA   \n",
              "1  2022-06-01  Recursos Ordinários (Livres)  ESSENCIAL À JUSTIÇA   \n",
              "2  2022-06-01  Recursos Ordinários (Livres)  ESSENCIAL À JUSTIÇA   \n",
              "3  2022-06-01  Recursos Ordinários (Livres)  ESSENCIAL À JUSTIÇA   \n",
              "4  2022-06-01  Recursos Ordinários (Livres)           SANEAMENTO   \n",
              "\n",
              "                              PROGRAMA  \\\n",
              "0  PROGRAMA VIVA CURITIBA TRANSPARENTE   \n",
              "1  PROGRAMA VIVA CURITIBA TRANSPARENTE   \n",
              "2  PROGRAMA VIVA CURITIBA TRANSPARENTE   \n",
              "3  PROGRAMA VIVA CURITIBA TRANSPARENTE   \n",
              "4      PROGRAMA VIVA UMA NOVA CURITIBA   \n",
              "\n",
              "                                                ACAO  \\\n",
              "0  MANUTENÇÃO DA ESTRUTURA FUNCIONAL, VOLTADA AO ...   \n",
              "1  MANUTENÇÃO DA ESTRUTURA FUNCIONAL, VOLTADA AO ...   \n",
              "2  MANUTENÇÃO DA ESTRUTURA FUNCIONAL, VOLTADA AO ...   \n",
              "3  MANUTENÇÃO DA ESTRUTURA FUNCIONAL, VOLTADA AO ...   \n",
              "4  GESTÃO DOS SERVIÇOS DE LIMPEZA PÚBLICA, EFETUA...   \n",
              "\n",
              "                      SUBELEMENTO                                  ORGAO  \\\n",
              "0           LIMPEZA E CONSERVAÇÃO        PROCURADORIA GERAL DO MUNICÍPIO   \n",
              "1            SERVIÇOS JUDICIÁRIOS        PROCURADORIA GERAL DO MUNICÍPIO   \n",
              "2            SERVIÇOS JUDICIÁRIOS        PROCURADORIA GERAL DO MUNICÍPIO   \n",
              "3            SERVIÇOS JUDICIÁRIOS        PROCURADORIA GERAL DO MUNICÍPIO   \n",
              "4  SERVIÇOS DE CONTROLE AMBIENTAL  SECRETARIA MUNICIPAL DO MEIO AMBIENTE   \n",
              "\n",
              "                                             TIPO  \\\n",
              "0  OUTROS SERVIÇOS DE TERCEIROS - PESSOA JURÍDICA   \n",
              "1  OUTROS SERVIÇOS DE TERCEIROS - PESSOA JURÍDICA   \n",
              "2  OUTROS SERVIÇOS DE TERCEIROS - PESSOA JURÍDICA   \n",
              "3  OUTROS SERVIÇOS DE TERCEIROS - PESSOA JURÍDICA   \n",
              "4  OUTROS SERVIÇOS DE TERCEIROS - PESSOA JURÍDICA   \n",
              "\n",
              "                                         ELEMENTO       DOCUMENTO  \\\n",
              "0  Outros Serviços de Terceiros - Pessoa Jurídica  14983004000141   \n",
              "1  Outros Serviços de Terceiros - Pessoa Jurídica  75153494000143   \n",
              "2  Outros Serviços de Terceiros - Pessoa Jurídica  75153494000143   \n",
              "3  Outros Serviços de Terceiros - Pessoa Jurídica  75153494000143   \n",
              "4  Outros Serviços de Terceiros - Pessoa Jurídica  19090702000131   \n",
              "\n",
              "   VALOR_EMPENHADO      ITEM UNIDADE_ITEM  QUANTIDADE_ITEM  \\\n",
              "0          11600.0  SEM ITEM  SEM UNIDADE              0.0   \n",
              "1           2200.0  SEM ITEM  SEM UNIDADE              0.0   \n",
              "2           2200.0  SEM ITEM  SEM UNIDADE              0.0   \n",
              "3           2200.0  SEM ITEM  SEM UNIDADE              0.0   \n",
              "4          16686.4  SEM ITEM  SEM UNIDADE              0.0   \n",
              "\n",
              "   VALOR_PRECO_UNITARIO  VALOR_TOTAL           DATA_TRANSACAO  \\\n",
              "0                   0.0          0.0  2022-08-24 00:00:00.000   \n",
              "1                   0.0          0.0  2022-08-11 00:00:00.000   \n",
              "2                   0.0          0.0  2022-08-05 00:00:00.000   \n",
              "3                   0.0          0.0  2022-08-04 00:00:00.000   \n",
              "4                   0.0          0.0  2022-07-14 00:00:00.000   \n",
              "\n",
              "        STATUS_TRANSACAO  VALOR_LIQUIDADO  VALOR_DEVOLVIDO  VALOR_ANULADO  \\\n",
              "0  Liquidação de Empenho          1320.68              0.0            0.0   \n",
              "1  Liquidação de Empenho            18.36              0.0            0.0   \n",
              "2   Pagamento de Empenho             0.00              0.0            0.0   \n",
              "3  Liquidação de Empenho          2181.64              0.0            0.0   \n",
              "4   Pagamento de Empenho             0.00              0.0            0.0   \n",
              "\n",
              "   VALOR_PAGO  VALOR_CONSIGNADO DOCUMENTO_TIPO  \n",
              "0        0.00               0.0           CNPJ  \n",
              "1        0.00               0.0           CNPJ  \n",
              "2     2181.64               0.0           CNPJ  \n",
              "3        0.00               0.0           CNPJ  \n",
              "4    10429.00               0.0           CNPJ  "
            ],
            "text/html": [
              "\n",
              "  <div id=\"df-df48ba1e-0d3c-47b8-8742-490d7aeeea61\">\n",
              "    <div class=\"colab-df-container\">\n",
              "      <div>\n",
              "<style scoped>\n",
              "    .dataframe tbody tr th:only-of-type {\n",
              "        vertical-align: middle;\n",
              "    }\n",
              "\n",
              "    .dataframe tbody tr th {\n",
              "        vertical-align: top;\n",
              "    }\n",
              "\n",
              "    .dataframe thead th {\n",
              "        text-align: right;\n",
              "    }\n",
              "</style>\n",
              "<table border=\"1\" class=\"dataframe\">\n",
              "  <thead>\n",
              "    <tr style=\"text-align: right;\">\n",
              "      <th></th>\n",
              "      <th>DATA</th>\n",
              "      <th>FONTE</th>\n",
              "      <th>FUNCAO</th>\n",
              "      <th>PROGRAMA</th>\n",
              "      <th>ACAO</th>\n",
              "      <th>SUBELEMENTO</th>\n",
              "      <th>ORGAO</th>\n",
              "      <th>TIPO</th>\n",
              "      <th>ELEMENTO</th>\n",
              "      <th>DOCUMENTO</th>\n",
              "      <th>VALOR_EMPENHADO</th>\n",
              "      <th>ITEM</th>\n",
              "      <th>UNIDADE_ITEM</th>\n",
              "      <th>QUANTIDADE_ITEM</th>\n",
              "      <th>VALOR_PRECO_UNITARIO</th>\n",
              "      <th>VALOR_TOTAL</th>\n",
              "      <th>DATA_TRANSACAO</th>\n",
              "      <th>STATUS_TRANSACAO</th>\n",
              "      <th>VALOR_LIQUIDADO</th>\n",
              "      <th>VALOR_DEVOLVIDO</th>\n",
              "      <th>VALOR_ANULADO</th>\n",
              "      <th>VALOR_PAGO</th>\n",
              "      <th>VALOR_CONSIGNADO</th>\n",
              "      <th>DOCUMENTO_TIPO</th>\n",
              "    </tr>\n",
              "  </thead>\n",
              "  <tbody>\n",
              "    <tr>\n",
              "      <th>0</th>\n",
              "      <td>2022-06-01</td>\n",
              "      <td>Recursos Ordinários (Livres)</td>\n",
              "      <td>ESSENCIAL À JUSTIÇA</td>\n",
              "      <td>PROGRAMA VIVA CURITIBA TRANSPARENTE</td>\n",
              "      <td>MANUTENÇÃO DA ESTRUTURA FUNCIONAL, VOLTADA AO ...</td>\n",
              "      <td>LIMPEZA E CONSERVAÇÃO</td>\n",
              "      <td>PROCURADORIA GERAL DO MUNICÍPIO</td>\n",
              "      <td>OUTROS SERVIÇOS DE TERCEIROS - PESSOA JURÍDICA</td>\n",
              "      <td>Outros Serviços de Terceiros - Pessoa Jurídica</td>\n",
              "      <td>14983004000141</td>\n",
              "      <td>11600.0</td>\n",
              "      <td>SEM ITEM</td>\n",
              "      <td>SEM UNIDADE</td>\n",
              "      <td>0.0</td>\n",
              "      <td>0.0</td>\n",
              "      <td>0.0</td>\n",
              "      <td>2022-08-24 00:00:00.000</td>\n",
              "      <td>Liquidação de Empenho</td>\n",
              "      <td>1320.68</td>\n",
              "      <td>0.0</td>\n",
              "      <td>0.0</td>\n",
              "      <td>0.00</td>\n",
              "      <td>0.0</td>\n",
              "      <td>CNPJ</td>\n",
              "    </tr>\n",
              "    <tr>\n",
              "      <th>1</th>\n",
              "      <td>2022-06-01</td>\n",
              "      <td>Recursos Ordinários (Livres)</td>\n",
              "      <td>ESSENCIAL À JUSTIÇA</td>\n",
              "      <td>PROGRAMA VIVA CURITIBA TRANSPARENTE</td>\n",
              "      <td>MANUTENÇÃO DA ESTRUTURA FUNCIONAL, VOLTADA AO ...</td>\n",
              "      <td>SERVIÇOS JUDICIÁRIOS</td>\n",
              "      <td>PROCURADORIA GERAL DO MUNICÍPIO</td>\n",
              "      <td>OUTROS SERVIÇOS DE TERCEIROS - PESSOA JURÍDICA</td>\n",
              "      <td>Outros Serviços de Terceiros - Pessoa Jurídica</td>\n",
              "      <td>75153494000143</td>\n",
              "      <td>2200.0</td>\n",
              "      <td>SEM ITEM</td>\n",
              "      <td>SEM UNIDADE</td>\n",
              "      <td>0.0</td>\n",
              "      <td>0.0</td>\n",
              "      <td>0.0</td>\n",
              "      <td>2022-08-11 00:00:00.000</td>\n",
              "      <td>Liquidação de Empenho</td>\n",
              "      <td>18.36</td>\n",
              "      <td>0.0</td>\n",
              "      <td>0.0</td>\n",
              "      <td>0.00</td>\n",
              "      <td>0.0</td>\n",
              "      <td>CNPJ</td>\n",
              "    </tr>\n",
              "    <tr>\n",
              "      <th>2</th>\n",
              "      <td>2022-06-01</td>\n",
              "      <td>Recursos Ordinários (Livres)</td>\n",
              "      <td>ESSENCIAL À JUSTIÇA</td>\n",
              "      <td>PROGRAMA VIVA CURITIBA TRANSPARENTE</td>\n",
              "      <td>MANUTENÇÃO DA ESTRUTURA FUNCIONAL, VOLTADA AO ...</td>\n",
              "      <td>SERVIÇOS JUDICIÁRIOS</td>\n",
              "      <td>PROCURADORIA GERAL DO MUNICÍPIO</td>\n",
              "      <td>OUTROS SERVIÇOS DE TERCEIROS - PESSOA JURÍDICA</td>\n",
              "      <td>Outros Serviços de Terceiros - Pessoa Jurídica</td>\n",
              "      <td>75153494000143</td>\n",
              "      <td>2200.0</td>\n",
              "      <td>SEM ITEM</td>\n",
              "      <td>SEM UNIDADE</td>\n",
              "      <td>0.0</td>\n",
              "      <td>0.0</td>\n",
              "      <td>0.0</td>\n",
              "      <td>2022-08-05 00:00:00.000</td>\n",
              "      <td>Pagamento de Empenho</td>\n",
              "      <td>0.00</td>\n",
              "      <td>0.0</td>\n",
              "      <td>0.0</td>\n",
              "      <td>2181.64</td>\n",
              "      <td>0.0</td>\n",
              "      <td>CNPJ</td>\n",
              "    </tr>\n",
              "    <tr>\n",
              "      <th>3</th>\n",
              "      <td>2022-06-01</td>\n",
              "      <td>Recursos Ordinários (Livres)</td>\n",
              "      <td>ESSENCIAL À JUSTIÇA</td>\n",
              "      <td>PROGRAMA VIVA CURITIBA TRANSPARENTE</td>\n",
              "      <td>MANUTENÇÃO DA ESTRUTURA FUNCIONAL, VOLTADA AO ...</td>\n",
              "      <td>SERVIÇOS JUDICIÁRIOS</td>\n",
              "      <td>PROCURADORIA GERAL DO MUNICÍPIO</td>\n",
              "      <td>OUTROS SERVIÇOS DE TERCEIROS - PESSOA JURÍDICA</td>\n",
              "      <td>Outros Serviços de Terceiros - Pessoa Jurídica</td>\n",
              "      <td>75153494000143</td>\n",
              "      <td>2200.0</td>\n",
              "      <td>SEM ITEM</td>\n",
              "      <td>SEM UNIDADE</td>\n",
              "      <td>0.0</td>\n",
              "      <td>0.0</td>\n",
              "      <td>0.0</td>\n",
              "      <td>2022-08-04 00:00:00.000</td>\n",
              "      <td>Liquidação de Empenho</td>\n",
              "      <td>2181.64</td>\n",
              "      <td>0.0</td>\n",
              "      <td>0.0</td>\n",
              "      <td>0.00</td>\n",
              "      <td>0.0</td>\n",
              "      <td>CNPJ</td>\n",
              "    </tr>\n",
              "    <tr>\n",
              "      <th>4</th>\n",
              "      <td>2022-06-01</td>\n",
              "      <td>Recursos Ordinários (Livres)</td>\n",
              "      <td>SANEAMENTO</td>\n",
              "      <td>PROGRAMA VIVA UMA NOVA CURITIBA</td>\n",
              "      <td>GESTÃO DOS SERVIÇOS DE LIMPEZA PÚBLICA, EFETUA...</td>\n",
              "      <td>SERVIÇOS DE CONTROLE AMBIENTAL</td>\n",
              "      <td>SECRETARIA MUNICIPAL DO MEIO AMBIENTE</td>\n",
              "      <td>OUTROS SERVIÇOS DE TERCEIROS - PESSOA JURÍDICA</td>\n",
              "      <td>Outros Serviços de Terceiros - Pessoa Jurídica</td>\n",
              "      <td>19090702000131</td>\n",
              "      <td>16686.4</td>\n",
              "      <td>SEM ITEM</td>\n",
              "      <td>SEM UNIDADE</td>\n",
              "      <td>0.0</td>\n",
              "      <td>0.0</td>\n",
              "      <td>0.0</td>\n",
              "      <td>2022-07-14 00:00:00.000</td>\n",
              "      <td>Pagamento de Empenho</td>\n",
              "      <td>0.00</td>\n",
              "      <td>0.0</td>\n",
              "      <td>0.0</td>\n",
              "      <td>10429.00</td>\n",
              "      <td>0.0</td>\n",
              "      <td>CNPJ</td>\n",
              "    </tr>\n",
              "  </tbody>\n",
              "</table>\n",
              "</div>\n",
              "      <button class=\"colab-df-convert\" onclick=\"convertToInteractive('df-df48ba1e-0d3c-47b8-8742-490d7aeeea61')\"\n",
              "              title=\"Convert this dataframe to an interactive table.\"\n",
              "              style=\"display:none;\">\n",
              "        \n",
              "  <svg xmlns=\"http://www.w3.org/2000/svg\" height=\"24px\"viewBox=\"0 0 24 24\"\n",
              "       width=\"24px\">\n",
              "    <path d=\"M0 0h24v24H0V0z\" fill=\"none\"/>\n",
              "    <path d=\"M18.56 5.44l.94 2.06.94-2.06 2.06-.94-2.06-.94-.94-2.06-.94 2.06-2.06.94zm-11 1L8.5 8.5l.94-2.06 2.06-.94-2.06-.94L8.5 2.5l-.94 2.06-2.06.94zm10 10l.94 2.06.94-2.06 2.06-.94-2.06-.94-.94-2.06-.94 2.06-2.06.94z\"/><path d=\"M17.41 7.96l-1.37-1.37c-.4-.4-.92-.59-1.43-.59-.52 0-1.04.2-1.43.59L10.3 9.45l-7.72 7.72c-.78.78-.78 2.05 0 2.83L4 21.41c.39.39.9.59 1.41.59.51 0 1.02-.2 1.41-.59l7.78-7.78 2.81-2.81c.8-.78.8-2.07 0-2.86zM5.41 20L4 18.59l7.72-7.72 1.47 1.35L5.41 20z\"/>\n",
              "  </svg>\n",
              "      </button>\n",
              "      \n",
              "  <style>\n",
              "    .colab-df-container {\n",
              "      display:flex;\n",
              "      flex-wrap:wrap;\n",
              "      gap: 12px;\n",
              "    }\n",
              "\n",
              "    .colab-df-convert {\n",
              "      background-color: #E8F0FE;\n",
              "      border: none;\n",
              "      border-radius: 50%;\n",
              "      cursor: pointer;\n",
              "      display: none;\n",
              "      fill: #1967D2;\n",
              "      height: 32px;\n",
              "      padding: 0 0 0 0;\n",
              "      width: 32px;\n",
              "    }\n",
              "\n",
              "    .colab-df-convert:hover {\n",
              "      background-color: #E2EBFA;\n",
              "      box-shadow: 0px 1px 2px rgba(60, 64, 67, 0.3), 0px 1px 3px 1px rgba(60, 64, 67, 0.15);\n",
              "      fill: #174EA6;\n",
              "    }\n",
              "\n",
              "    [theme=dark] .colab-df-convert {\n",
              "      background-color: #3B4455;\n",
              "      fill: #D2E3FC;\n",
              "    }\n",
              "\n",
              "    [theme=dark] .colab-df-convert:hover {\n",
              "      background-color: #434B5C;\n",
              "      box-shadow: 0px 1px 3px 1px rgba(0, 0, 0, 0.15);\n",
              "      filter: drop-shadow(0px 1px 2px rgba(0, 0, 0, 0.3));\n",
              "      fill: #FFFFFF;\n",
              "    }\n",
              "  </style>\n",
              "\n",
              "      <script>\n",
              "        const buttonEl =\n",
              "          document.querySelector('#df-df48ba1e-0d3c-47b8-8742-490d7aeeea61 button.colab-df-convert');\n",
              "        buttonEl.style.display =\n",
              "          google.colab.kernel.accessAllowed ? 'block' : 'none';\n",
              "\n",
              "        async function convertToInteractive(key) {\n",
              "          const element = document.querySelector('#df-df48ba1e-0d3c-47b8-8742-490d7aeeea61');\n",
              "          const dataTable =\n",
              "            await google.colab.kernel.invokeFunction('convertToInteractive',\n",
              "                                                     [key], {});\n",
              "          if (!dataTable) return;\n",
              "\n",
              "          const docLinkHtml = 'Like what you see? Visit the ' +\n",
              "            '<a target=\"_blank\" href=https://colab.research.google.com/notebooks/data_table.ipynb>data table notebook</a>'\n",
              "            + ' to learn more about interactive tables.';\n",
              "          element.innerHTML = '';\n",
              "          dataTable['output_type'] = 'display_data';\n",
              "          await google.colab.output.renderOutput(dataTable, element);\n",
              "          const docLink = document.createElement('div');\n",
              "          docLink.innerHTML = docLinkHtml;\n",
              "          element.appendChild(docLink);\n",
              "        }\n",
              "      </script>\n",
              "    </div>\n",
              "  </div>\n",
              "  "
            ]
          },
          "metadata": {},
          "execution_count": 140
        }
      ]
    },
    {
      "cell_type": "markdown",
      "source": [
        "# Criação de funções utilitárias"
      ],
      "metadata": {
        "id": "emPpj6N6Q2aF"
      }
    },
    {
      "cell_type": "code",
      "source": [
        "def contLinhasDfFormatado(_df):\n",
        "  aux = f'{len(_df):_.0f}'\n",
        "  aux = aux.replace('.', ',')\n",
        "  return aux.replace('_', '.')\n",
        "\n",
        "def formataData(data, formatoOrigem):\n",
        "  dataFormatada = datetime.strptime(data, formatoOrigem)\n",
        "  dataFormatada = dataFormatada.strftime('%d/%m/%Y')\n",
        "  return dataFormatada"
      ],
      "metadata": {
        "id": "S965QgSVQ5M5"
      },
      "execution_count": 141,
      "outputs": []
    },
    {
      "cell_type": "markdown",
      "source": [
        "# Perguntas iniciais"
      ],
      "metadata": {
        "id": "1x1x9U0OQplA"
      }
    },
    {
      "cell_type": "markdown",
      "source": [
        "- Qual o total de despesas que temos no dataset?"
      ],
      "metadata": {
        "id": "1j2irRqGQql5"
      }
    },
    {
      "cell_type": "code",
      "source": [
        "cont_df = contLinhasDfFormatado(df)\n",
        "\n",
        "print(cont_df)"
      ],
      "metadata": {
        "colab": {
          "base_uri": "https://localhost:8080/"
        },
        "id": "FHCrOP7oQ0Vo",
        "outputId": "8452b14a-8b60-4251-80d0-008e7e41d32e"
      },
      "execution_count": 142,
      "outputs": [
        {
          "output_type": "stream",
          "name": "stdout",
          "text": [
            "35.981\n"
          ]
        }
      ]
    },
    {
      "cell_type": "markdown",
      "source": [
        "- Qual o período de data dessas despesas?"
      ],
      "metadata": {
        "id": "zn-r7RvSRJCS"
      }
    },
    {
      "cell_type": "code",
      "source": [
        "df_data_order = df.copy()\n",
        "\n",
        "first_date = formataData(df_data_order['DATA'][0], '%Y-%m-%d')\n",
        "last_date = formataData(df_data_order['DATA'][len(df_data_order)-1], '%Y-%m-%d')\n",
        "\n",
        "print(first_date, last_date, sep=' - ')"
      ],
      "metadata": {
        "id": "G5GjNLt6SfC4",
        "outputId": "b7ef9fbc-6dc9-419a-875d-15f213a7d192",
        "colab": {
          "base_uri": "https://localhost:8080/"
        }
      },
      "execution_count": 143,
      "outputs": [
        {
          "output_type": "stream",
          "name": "stdout",
          "text": [
            "01/06/2022 - 31/08/2022\n"
          ]
        }
      ]
    },
    {
      "cell_type": "markdown",
      "source": [
        "- Quantas despesas tiveram itens envolvidos?"
      ],
      "metadata": {
        "id": "RD8HK_EWVgif"
      }
    },
    {
      "cell_type": "code",
      "source": [
        "df_item = df[df['ITEM'] != \"SEM ITEM\"]\n",
        "cont_df_item = contLinhasDfFormatado(df_item)\n",
        "\n",
        "print(cont_df_item)"
      ],
      "metadata": {
        "id": "A4CimFXuVj9a",
        "outputId": "3ead8a42-722f-477a-b26d-7337e5c059ba",
        "colab": {
          "base_uri": "https://localhost:8080/"
        }
      },
      "execution_count": 144,
      "outputs": [
        {
          "output_type": "stream",
          "name": "stdout",
          "text": [
            "9.374\n"
          ]
        }
      ]
    },
    {
      "cell_type": "markdown",
      "source": [
        "- Qual a porcentagem de despesas com itens?"
      ],
      "metadata": {
        "id": "gYscN1YjWLp_"
      }
    },
    {
      "cell_type": "code",
      "source": [
        "porcentagem_com_item = (len(df_item)/len(df))*100\n",
        "\n",
        "print(f'{porcentagem_com_item:.1f}%')"
      ],
      "metadata": {
        "id": "Tvk_88EHWVf8",
        "outputId": "21facbf6-1339-4757-8ef5-4e35e2cd8c1e",
        "colab": {
          "base_uri": "https://localhost:8080/"
        }
      },
      "execution_count": 145,
      "outputs": [
        {
          "output_type": "stream",
          "name": "stdout",
          "text": [
            "26.1%\n"
          ]
        }
      ]
    },
    {
      "cell_type": "markdown",
      "source": [
        "- Quantas depesas foram de \"Assistência social\"?"
      ],
      "metadata": {
        "id": "xJYkKZl6Xe6C"
      }
    },
    {
      "cell_type": "code",
      "source": [
        "df_assistencia_social = df[df['FUNCAO'] != \"ASSISTÊNCIA SOCIAL\"]\n",
        "cont_df_assistencia_social = contLinhasDfFormatado(df_assistencia_social)\n",
        "\n",
        "print(cont_df_assistencia_social)"
      ],
      "metadata": {
        "id": "AihFUj8iXpb4",
        "outputId": "b112e434-b5d0-4c0b-a879-d8306beb8c31",
        "colab": {
          "base_uri": "https://localhost:8080/"
        }
      },
      "execution_count": 146,
      "outputs": [
        {
          "output_type": "stream",
          "name": "stdout",
          "text": [
            "28.148\n"
          ]
        }
      ]
    },
    {
      "cell_type": "markdown",
      "source": [
        "- Qual a porcentagem de despesas com \"Assistência social\"?"
      ],
      "metadata": {
        "id": "LP4sBa_OXzMG"
      }
    },
    {
      "cell_type": "code",
      "source": [
        "porcentagem_assistencia_social = (len(df_assistencia_social)/len(df))*100\n",
        "\n",
        "print(f'{porcentagem_assistencia_social:.1f}%')"
      ],
      "metadata": {
        "id": "VlhbKdxcX-Le",
        "outputId": "0ad7fb3b-a2ee-4e29-ba01-52b4f00bf79d",
        "colab": {
          "base_uri": "https://localhost:8080/"
        }
      },
      "execution_count": 147,
      "outputs": [
        {
          "output_type": "stream",
          "name": "stdout",
          "text": [
            "78.2%\n"
          ]
        }
      ]
    },
    {
      "cell_type": "markdown",
      "source": [
        "- Quantas despesas foram geradas em cima de um CNPJ, CPF e documento desconhecido?"
      ],
      "metadata": {
        "id": "nmJJ0c6dfDR2"
      }
    },
    {
      "cell_type": "code",
      "source": [
        "df_cnpj = df[df['DOCUMENTO_TIPO'] == \"CNPJ\"]\n",
        "cont_df_cnpj = contLinhasDfFormatado(df_cnpj)\n",
        "\n",
        "df_cpf = df[df['DOCUMENTO_TIPO'] == \"CPF\"]\n",
        "cont_df_cpf = contLinhasDfFormatado(df_cpf)\n",
        "\n",
        "print('CNPJ:', cont_df_cnpj)\n",
        "print('CNPJ:', cont_df_cpf)"
      ],
      "metadata": {
        "id": "9td2nxuRcLXQ",
        "outputId": "b89250cf-2ea0-4dd0-dc5b-70d0a37fa6b8",
        "colab": {
          "base_uri": "https://localhost:8080/"
        }
      },
      "execution_count": 148,
      "outputs": [
        {
          "output_type": "stream",
          "name": "stdout",
          "text": [
            "CNPJ: 32.923\n",
            "CNPJ: 3.058\n"
          ]
        }
      ]
    },
    {
      "cell_type": "markdown",
      "source": [
        "- Qual a porcentagem de despesas em cima de um CNPJ e CPF?"
      ],
      "metadata": {
        "id": "eVLHg7uKfxOP"
      }
    },
    {
      "cell_type": "code",
      "source": [
        "porcentagem_cnpj = (len(df_cnpj)/len(df))*100\n",
        "porcentagem_cpf = (len(df_cpf)/len(df))*100\n",
        "\n",
        "print('CNPJ:', f'{porcentagem_cnpj:.1f}%')\n",
        "print('CPF:', f'{porcentagem_cpf:.1f}%')"
      ],
      "metadata": {
        "id": "AuBvO0bPf0oG",
        "outputId": "fd34425c-3cab-4f52-b223-3ad11415ce9f",
        "colab": {
          "base_uri": "https://localhost:8080/"
        }
      },
      "execution_count": 149,
      "outputs": [
        {
          "output_type": "stream",
          "name": "stdout",
          "text": [
            "CNPJ: 91.5%\n",
            "CPF: 8.5%\n"
          ]
        }
      ]
    },
    {
      "cell_type": "markdown",
      "source": [
        "# Visualização dos dados"
      ],
      "metadata": {
        "id": "huhI9Jv4JK07"
      }
    },
    {
      "cell_type": "markdown",
      "source": [
        "Átravés da visualização abaixo conseguimos visualizar essa diferença entre despesas em CNPJ e CPF já mostrada nas perguntas iniciais."
      ],
      "metadata": {
        "id": "YWmDCfzbRq17"
      }
    },
    {
      "cell_type": "code",
      "source": [
        "sns.histplot(data=df, x=\"DOCUMENTO_TIPO\", hue=\"DOCUMENTO_TIPO\", stat=\"percent\", palette=\"bright\").set(title='Pecentual de despesas de CNPJ e CPF')"
      ],
      "metadata": {
        "id": "qui08ttIJNre",
        "outputId": "8dd75543-f8bb-4be8-b2bd-d50664c79dac",
        "colab": {
          "base_uri": "https://localhost:8080/",
          "height": 318
        }
      },
      "execution_count": 150,
      "outputs": [
        {
          "output_type": "execute_result",
          "data": {
            "text/plain": [
              "[Text(0.5, 1.0, 'Pecentual de despesas de CNPJ e CPF')]"
            ]
          },
          "metadata": {},
          "execution_count": 150
        },
        {
          "output_type": "display_data",
          "data": {
            "text/plain": [
              "<Figure size 432x288 with 1 Axes>"
            ],
            "image/png": "[encoded data removed]"
          },
          "metadata": {
            "needs_background": "light"
          }
        }
      ]
    },
    {
      "cell_type": "markdown",
      "source": [
        "Conseguimos perceber, através do gráfico abaixo, que se obteve um valor maior com as despesas no mês de julho, se comparado com os outros meses."
      ],
      "metadata": {
        "id": "phE6m-bZRzeI"
      }
    },
    {
      "cell_type": "code",
      "source": [
        "df_jun = df[df['DATA'].str.contains('2022-06')]\n",
        "df_jul = df[df['DATA'].str.contains('2022-07')]\n",
        "df_aug = df[df['DATA'].str.contains('2022-08')]\n",
        "\n",
        "total_jun = df_jun['VALOR_TOTAL'].sum()\n",
        "total_jul = df_jul['VALOR_TOTAL'].sum()\n",
        "total_aug = df_aug['VALOR_TOTAL'].sum()\n",
        "\n",
        "total_jun = total_jun/1000000\n",
        "total_jul = total_jul/1000000\n",
        "total_aug = total_aug/1000000\n",
        "\n",
        "sns.barplot(x=['Junho', 'Julho', 'Agosto'], y=[total_jun, total_jul, total_aug], palette=\"bright\").set(title='Valor total de despesas por mês em milhões')"
      ],
      "metadata": {
        "id": "QFe0DFJKJpgw",
        "outputId": "3811299f-57ef-4fe8-ee8a-de72f37b40ea",
        "colab": {
          "base_uri": "https://localhost:8080/",
          "height": 301
        }
      },
      "execution_count": 151,
      "outputs": [
        {
          "output_type": "execute_result",
          "data": {
            "text/plain": [
              "[Text(0.5, 1.0, 'Valor total de despesas por mês em milhões')]"
            ]
          },
          "metadata": {},
          "execution_count": 151
        },
        {
          "output_type": "display_data",
          "data": {
            "text/plain": [
              "<Figure size 432x288 with 1 Axes>"
            ],
            "image/png": "[encoded data removed]"
          },
          "metadata": {
            "needs_background": "light"
          }
        }
      ]
    },
    {
      "cell_type": "markdown",
      "source": [
        "Entretanto, notamos que o mês de julho foi o que menos teve despesas, mesmo tendo mais gastos."
      ],
      "metadata": {
        "id": "GZb_9McjR8_W"
      }
    },
    {
      "cell_type": "code",
      "source": [
        "total_jun_cont = len(df_jun)\n",
        "total_jul_cont = len(df_jul)\n",
        "total_aug_cont = len(df_aug)\n",
        "\n",
        "sns.barplot(x=['Junho', 'Julho', 'Agosto'], y=[total_jun_cont, total_jul_cont, total_aug_cont], palette=\"bright\").set(title='quantidade de despesas por mês')"
      ],
      "metadata": {
        "id": "ykyd8yRfPlGd",
        "outputId": "0925c83e-595d-4ba1-ab77-7ad951aa8158",
        "colab": {
          "base_uri": "https://localhost:8080/",
          "height": 301
        }
      },
      "execution_count": 152,
      "outputs": [
        {
          "output_type": "execute_result",
          "data": {
            "text/plain": [
              "[Text(0.5, 1.0, 'quantidade de despesas por mês')]"
            ]
          },
          "metadata": {},
          "execution_count": 152
        },
        {
          "output_type": "display_data",
          "data": {
            "text/plain": [
              "<Figure size 432x288 with 1 Axes>"
            ],
            "image/png": "[encoded data removed]"
          },
          "metadata": {
            "needs_background": "light"
          }
        }
      ]
    },
    {
      "cell_type": "markdown",
      "source": [
        "O gráfico abaixo mostra o histórico do valor total de despesas por porcentagem do período de datas, sendo o 0 o início do período salvo no dataset de despesas, e 100 o final. Percebemos então que o motivo de termos um mês com poucas despesas, mas um valor altíssimo, se deve pelos picos de valores entre o 40% e 60%, que representam o mês de julho."
      ],
      "metadata": {
        "id": "SMhK1XytZ3YY"
      }
    },
    {
      "cell_type": "code",
      "source": [
        "df_data_order = df.copy()\n",
        "df_data_order['PORCENTAGEM'] = df_data_order.index\n",
        "df_data_order['PORCENTAGEM'] = df_data_order['PORCENTAGEM']/len(df_data_order)*100\n",
        "\n",
        "df_data_order['VALOR_TOTAL'] = df_data_order['VALOR_TOTAL']/1000000\n",
        "\n",
        "sns.lineplot(x='PORCENTAGEM', y='VALOR_TOTAL', data=df_data_order, palette=\"Blues_d\").set(title='Histórico do valor de despesas por porcentagem')"
      ],
      "metadata": {
        "id": "qkJIsZu8VzPr",
        "outputId": "e2776184-2c65-4865-8f49-de0d80fc4e27",
        "colab": {
          "base_uri": "https://localhost:8080/",
          "height": 318
        }
      },
      "execution_count": 176,
      "outputs": [
        {
          "output_type": "execute_result",
          "data": {
            "text/plain": [
              "[Text(0.5, 1.0, 'Histórico do valor de despesas por porcentagem')]"
            ]
          },
          "metadata": {},
          "execution_count": 176
        },
        {
          "output_type": "display_data",
          "data": {
            "text/plain": [
              "<Figure size 432x288 with 1 Axes>"
            ],
            "image/png": "[encoded data removed]"
          },
          "metadata": {
            "needs_background": "light"
          }
        }
      ]
    }
  ],
  "metadata": {
    "kernelspec": {
      "display_name": "Python 3.9.6 64-bit",
      "language": "python",
      "name": "python3"
    },
    "language_info": {
      "name": "python",
      "version": "3.9.6"
    },
    "orig_nbformat": 4,
    "vscode": {
      "interpreter": {
        "hash": "81794d4967e6c3204c66dcd87b604927b115b27c00565d3d43f05ba2f3a2cb0d"
      }
    },
    "colab": {
      "provenance": []
    }
  },
  "nbformat": 4,
  "nbformat_minor": 0
}